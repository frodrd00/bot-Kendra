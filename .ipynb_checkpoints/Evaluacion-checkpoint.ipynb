{
 "cells": [
  {
   "cell_type": "markdown",
   "metadata": {},
   "source": [
    "### Librerias"
   ]
  },
  {
   "cell_type": "code",
   "execution_count": 1,
   "metadata": {},
   "outputs": [],
   "source": [
    "import matplotlib.pyplot as plt\n",
    "import numpy as np\n",
    "import pandas as pd\n",
    "import sklearn as sk\n",
    "from sklearn.model_selection import train_test_split\n",
    "from sklearn.metrics import confusion_matrix\n",
    "from sklearn.metrics import explained_variance_score, make_scorer\n",
    "from sklearn.metrics import accuracy_score\n",
    "from sklearn.model_selection import KFold # cross validation\n",
    "from sklearn.model_selection import learning_curve\n",
    "from sklearn.model_selection import ShuffleSplit # cross validation \n",
    "from sklearn.metrics import roc_curve, auc\n",
    "import itertools\n",
    "from sklearn.feature_selection import RFE\n",
    "\n",
    "# models\n",
    "from sklearn.naive_bayes import GaussianNB\n",
    "from sklearn.tree import DecisionTreeClassifier\n",
    "from sklearn.neural_network import MLPClassifier\n",
    "from sklearn.linear_model import LogisticRegression\n",
    "from sklearn.svm import SVC"
   ]
  },
  {
   "cell_type": "markdown",
   "metadata": {},
   "source": [
    "### Se carga el dataset de kendra y se borran las filas duplicadas"
   ]
  },
  {
   "cell_type": "code",
   "execution_count": 2,
   "metadata": {},
   "outputs": [],
   "source": [
    "df = pd.read_csv(\"dataset-kendra.csv\", delimiter=',')"
   ]
  },
  {
   "cell_type": "code",
   "execution_count": 3,
   "metadata": {
    "scrolled": true
   },
   "outputs": [
    {
     "name": "stdout",
     "output_type": "stream",
     "text": [
      "499\n"
     ]
    }
   ],
   "source": [
    "print(df.duplicated().sum())\n",
    "df = df.drop_duplicates()"
   ]
  },
  {
   "cell_type": "code",
   "execution_count": 4,
   "metadata": {},
   "outputs": [
    {
     "data": {
      "text/html": [
       "<div>\n",
       "<style scoped>\n",
       "    .dataframe tbody tr th:only-of-type {\n",
       "        vertical-align: middle;\n",
       "    }\n",
       "\n",
       "    .dataframe tbody tr th {\n",
       "        vertical-align: top;\n",
       "    }\n",
       "\n",
       "    .dataframe thead th {\n",
       "        text-align: right;\n",
       "    }\n",
       "</style>\n",
       "<table border=\"1\" class=\"dataframe\">\n",
       "  <thead>\n",
       "    <tr style=\"text-align: right;\">\n",
       "      <th></th>\n",
       "      <th>SinkClassification</th>\n",
       "      <th>CommandLine</th>\n",
       "      <th>EnvironmentVariable</th>\n",
       "      <th>File</th>\n",
       "      <th>Network</th>\n",
       "      <th>NumberOfElementsCopiedWithinBounds</th>\n",
       "      <th>ArrayWriteIndexWithinBounds</th>\n",
       "      <th>FormatStringPrecisionWithinBounds</th>\n",
       "      <th>StringCopyWithinBounds</th>\n",
       "      <th>IsCharacterCaseConversionSink</th>\n",
       "      <th>Vulnerable?</th>\n",
       "    </tr>\n",
       "  </thead>\n",
       "  <tbody>\n",
       "    <tr>\n",
       "      <th>0</th>\n",
       "      <td>7</td>\n",
       "      <td>0</td>\n",
       "      <td>0</td>\n",
       "      <td>0</td>\n",
       "      <td>0</td>\n",
       "      <td>-1</td>\n",
       "      <td>0</td>\n",
       "      <td>-1</td>\n",
       "      <td>-1</td>\n",
       "      <td>-1</td>\n",
       "      <td>0</td>\n",
       "    </tr>\n",
       "    <tr>\n",
       "      <th>2</th>\n",
       "      <td>7</td>\n",
       "      <td>0</td>\n",
       "      <td>0</td>\n",
       "      <td>0</td>\n",
       "      <td>0</td>\n",
       "      <td>-1</td>\n",
       "      <td>1</td>\n",
       "      <td>-1</td>\n",
       "      <td>-1</td>\n",
       "      <td>-1</td>\n",
       "      <td>1</td>\n",
       "    </tr>\n",
       "    <tr>\n",
       "      <th>8</th>\n",
       "      <td>1</td>\n",
       "      <td>0</td>\n",
       "      <td>0</td>\n",
       "      <td>0</td>\n",
       "      <td>0</td>\n",
       "      <td>0</td>\n",
       "      <td>-1</td>\n",
       "      <td>-1</td>\n",
       "      <td>-1</td>\n",
       "      <td>-1</td>\n",
       "      <td>0</td>\n",
       "    </tr>\n",
       "    <tr>\n",
       "      <th>70</th>\n",
       "      <td>1</td>\n",
       "      <td>0</td>\n",
       "      <td>0</td>\n",
       "      <td>0</td>\n",
       "      <td>0</td>\n",
       "      <td>-1</td>\n",
       "      <td>-1</td>\n",
       "      <td>-1</td>\n",
       "      <td>0</td>\n",
       "      <td>-1</td>\n",
       "      <td>0</td>\n",
       "    </tr>\n",
       "    <tr>\n",
       "      <th>245</th>\n",
       "      <td>1</td>\n",
       "      <td>0</td>\n",
       "      <td>0</td>\n",
       "      <td>0</td>\n",
       "      <td>0</td>\n",
       "      <td>1</td>\n",
       "      <td>-1</td>\n",
       "      <td>-1</td>\n",
       "      <td>-1</td>\n",
       "      <td>-1</td>\n",
       "      <td>1</td>\n",
       "    </tr>\n",
       "    <tr>\n",
       "      <th>342</th>\n",
       "      <td>1</td>\n",
       "      <td>0</td>\n",
       "      <td>0</td>\n",
       "      <td>0</td>\n",
       "      <td>0</td>\n",
       "      <td>-1</td>\n",
       "      <td>-1</td>\n",
       "      <td>-1</td>\n",
       "      <td>1</td>\n",
       "      <td>-1</td>\n",
       "      <td>1</td>\n",
       "    </tr>\n",
       "  </tbody>\n",
       "</table>\n",
       "</div>"
      ],
      "text/plain": [
       "     SinkClassification  CommandLine  EnvironmentVariable  File  Network  \\\n",
       "0                     7            0                    0     0        0   \n",
       "2                     7            0                    0     0        0   \n",
       "8                     1            0                    0     0        0   \n",
       "70                    1            0                    0     0        0   \n",
       "245                   1            0                    0     0        0   \n",
       "342                   1            0                    0     0        0   \n",
       "\n",
       "     NumberOfElementsCopiedWithinBounds  ArrayWriteIndexWithinBounds  \\\n",
       "0                                    -1                            0   \n",
       "2                                    -1                            1   \n",
       "8                                     0                           -1   \n",
       "70                                   -1                           -1   \n",
       "245                                   1                           -1   \n",
       "342                                  -1                           -1   \n",
       "\n",
       "     FormatStringPrecisionWithinBounds  StringCopyWithinBounds  \\\n",
       "0                                   -1                      -1   \n",
       "2                                   -1                      -1   \n",
       "8                                   -1                      -1   \n",
       "70                                  -1                       0   \n",
       "245                                 -1                      -1   \n",
       "342                                 -1                       1   \n",
       "\n",
       "     IsCharacterCaseConversionSink  Vulnerable?  \n",
       "0                               -1            0  \n",
       "2                               -1            1  \n",
       "8                               -1            0  \n",
       "70                              -1            0  \n",
       "245                             -1            1  \n",
       "342                             -1            1  "
      ]
     },
     "execution_count": 4,
     "metadata": {},
     "output_type": "execute_result"
    }
   ],
   "source": [
    "df"
   ]
  },
  {
   "cell_type": "code",
   "execution_count": 6,
   "metadata": {},
   "outputs": [
    {
     "name": "stdout",
     "output_type": "stream",
     "text": [
      "[0 1 0 0 1 1]\n",
      "[[ 7  0 -1  0 -1 -1 -1]\n",
      " [ 7  0 -1  1 -1 -1 -1]\n",
      " [ 1  0  0 -1 -1 -1 -1]\n",
      " [ 1  0 -1 -1 -1  0 -1]\n",
      " [ 1  0  1 -1 -1 -1 -1]\n",
      " [ 1  0 -1 -1 -1  1 -1]]\n"
     ]
    }
   ],
   "source": [
    "y_kendra = df['Vulnerable?'].values\n",
    "X_kendra = df.drop(columns=['EnvironmentVariable','File', 'Network','Vulnerable?'], axis=1)\n",
    "X_kendra = X_kendra.values"
   ]
  },
  {
   "cell_type": "markdown",
   "metadata": {},
   "source": [
    "### Se separan los datos en train y data para el de kendra"
   ]
  },
  {
   "cell_type": "code",
   "execution_count": 13,
   "metadata": {},
   "outputs": [
    {
     "data": {
      "text/plain": [
       "array([[ 7,  0, -1,  0, -1, -1, -1],\n",
       "       [ 7,  0, -1,  1, -1, -1, -1],\n",
       "       [ 1,  0,  1, -1, -1, -1, -1],\n",
       "       [ 1,  0, -1, -1, -1,  0, -1]])"
      ]
     },
     "execution_count": 13,
     "metadata": {},
     "output_type": "execute_result"
    }
   ],
   "source": [
    "X_train, X_test, y_train, y_test = train_test_split(X_kendra, y_kendra, test_size=0.20)\n",
    "X_train"
   ]
  },
  {
   "cell_type": "markdown",
   "metadata": {},
   "source": [
    "### Se definen los modelos de ML a utilizar"
   ]
  },
  {
   "cell_type": "code",
   "execution_count": 8,
   "metadata": {},
   "outputs": [],
   "source": [
    "gnb = GaussianNB()\n",
    "dt = DecisionTreeClassifier()\n",
    "mlp = MLPClassifier(max_iter=400)\n",
    "lr = LogisticRegression(solver='lbfgs')\n",
    "svc = SVC(random_state=0, tol=1e-2, probability=True, gamma='auto')"
   ]
  },
  {
   "cell_type": "markdown",
   "metadata": {},
   "source": [
    "### Se entrenan los modelos"
   ]
  },
  {
   "cell_type": "code",
   "execution_count": 10,
   "metadata": {},
   "outputs": [
    {
     "name": "stderr",
     "output_type": "stream",
     "text": [
      "/home/virus404/anaconda3/lib/python3.7/site-packages/sklearn/neural_network/multilayer_perceptron.py:562: ConvergenceWarning: Stochastic Optimizer: Maximum iterations (400) reached and the optimization hasn't converged yet.\n",
      "  % self.max_iter, ConvergenceWarning)\n"
     ]
    },
    {
     "data": {
      "text/plain": [
       "SVC(C=1.0, cache_size=200, class_weight=None, coef0=0.0,\n",
       "  decision_function_shape='ovr', degree=3, gamma='auto', kernel='rbf',\n",
       "  max_iter=-1, probability=True, random_state=0, shrinking=True, tol=0.01,\n",
       "  verbose=False)"
      ]
     },
     "execution_count": 10,
     "metadata": {},
     "output_type": "execute_result"
    }
   ],
   "source": [
    "gnb.fit(X_train,y_train)\n",
    "dt.fit(X_train,y_train)\n",
    "mlp.fit(X_train,y_train)\n",
    "lr.fit(X_train,y_train)\n",
    "svc.fit(X_train,y_train)"
   ]
  },
  {
   "cell_type": "markdown",
   "metadata": {},
   "source": [
    "### Se predicen los modelos con los  datos de test sin etiquetar"
   ]
  },
  {
   "cell_type": "code",
   "execution_count": 11,
   "metadata": {},
   "outputs": [],
   "source": [
    "y_predict_gnb = gnb.predict(X_test)\n",
    "y_predict_dt = dt.predict(X_test)\n",
    "y_predict_mlp = mlp.predict(X_test)\n",
    "y_predict_lr = lr.predict(X_test)\n",
    "y_predict_svc = svc.predict(X_test)"
   ]
  },
  {
   "cell_type": "markdown",
   "metadata": {},
   "source": [
    "### Accuracy Score"
   ]
  },
  {
   "cell_type": "code",
   "execution_count": 12,
   "metadata": {},
   "outputs": [
    {
     "name": "stdout",
     "output_type": "stream",
     "text": [
      "Accuracy Naive Bayes: 0.00\n",
      "Accuracy Decision Tree: 0.00\n",
      "Accuracy Multilayer Perceptron: 0.50\n",
      "Accuracy Logistic Regression: 0.00\n",
      "Accuracy Support Vector Classification: 0.00\n"
     ]
    }
   ],
   "source": [
    "print('Accuracy Naive Bayes: %.2f' % accuracy_score(y_test, y_predict_gnb))\n",
    "print('Accuracy Decision Tree: %.2f' % accuracy_score(y_test, y_predict_dt))\n",
    "print('Accuracy Multilayer Perceptron: %.2f' % accuracy_score(y_test, y_predict_mlp))\n",
    "print('Accuracy Logistic Regression: %.2f' % accuracy_score(y_test, y_predict_lr))\n",
    "print('Accuracy Support Vector Classification: %.2f' % accuracy_score(y_test, y_predict_svc))"
   ]
  },
  {
   "cell_type": "code",
   "execution_count": null,
   "metadata": {},
   "outputs": [],
   "source": [
    "#Grafico de ajuste del árbol de decisión\n",
    "train_prec =  []\n",
    "eval_prec = []\n",
    "max_deep_list = list(range(3, 23))\n",
    "\n",
    "for deep in max_deep_list:\n",
    "    arbol3 = DecisionTreeClassifier(criterion='entropy', max_depth=deep)\n",
    "    arbol3.fit(X, y)\n",
    "    train_prec.append(arbol3.score(X, y))\n",
    "    eval_prec.append(arbol3.score(X_kendra, y_kendra))\n",
    "    print(train_prec)\n",
    "\n",
    "# graficar los resultados.\n",
    "plt.plot(max_deep_list, train_prec, color='r', label='entrenamiento')\n",
    "plt.plot(max_deep_list, eval_prec, color='b', label='evaluacion')\n",
    "plt.title('Grafico de ajuste arbol de decision')\n",
    "plt.legend()\n",
    "plt.ylabel('precision')\n",
    "plt.xlabel('cant de nodos')\n",
    "plt.show()"
   ]
  },
  {
   "cell_type": "markdown",
   "metadata": {},
   "source": [
    "### Plot de curvas de aprendizaje"
   ]
  },
  {
   "cell_type": "code",
   "execution_count": null,
   "metadata": {},
   "outputs": [],
   "source": [
    "# Fnción obtenida del tutorial de scikit-learn\n",
    "def plot_learning_curve(estimator, title, X, y, ylim=None, cv=None, n_jobs=10, train_sizes=np.linspace(.1, 1.0, 5)):\n",
    "    plt.figure()\n",
    "    plt.title(title)\n",
    "    if ylim is not None:\n",
    "        plt.ylim(*ylim)\n",
    "    plt.xlabel(\"Numero de observaciones\")\n",
    "    plt.ylabel(\"Porcentaje de acierto\")\n",
    "    # el cv es cross validation\n",
    "    # se calcula con la libreria de ShuffleSplit\n",
    "    train_sizes, train_scores, test_scores = learning_curve(\n",
    "        estimator, X, y, cv=cv, n_jobs=n_jobs, train_sizes=train_sizes)\n",
    "    \n",
    "    train_scores_mean = np.mean(train_scores, axis=1)\n",
    "    train_scores_std = np.std(train_scores, axis=1)\n",
    "    test_scores_mean = np.mean(test_scores, axis=1)\n",
    "    test_scores_std = np.std(test_scores, axis=1)\n",
    "    plt.grid()\n",
    "\n",
    "    plt.fill_between(train_sizes, train_scores_mean - train_scores_std,\n",
    "                     train_scores_mean + train_scores_std, alpha=0.1,\n",
    "                     color=\"r\")\n",
    "    plt.fill_between(train_sizes, test_scores_mean - test_scores_std,\n",
    "                     test_scores_mean + test_scores_std, alpha=0.1, color=\"g\")\n",
    "    plt.plot(train_sizes, train_scores_mean, 'o-', color=\"r\",\n",
    "             label=\"Porcentaje de acierto en entrenamiento\")\n",
    "    plt.plot(train_sizes, test_scores_mean, 'o-', color=\"g\",\n",
    "             label=\"Porcentaje de acierto en test or CV\")\n",
    "\n",
    "    plt.legend(loc=\"best\")\n",
    "    return(plt)"
   ]
  },
  {
   "cell_type": "code",
   "execution_count": null,
   "metadata": {},
   "outputs": [],
   "source": [
    "cv = ShuffleSplit(n_splits=10, test_size=0.2)     "
   ]
  },
  {
   "cell_type": "code",
   "execution_count": null,
   "metadata": {},
   "outputs": [],
   "source": [
    "title = \"Curvas de aprendizaje  (Naive Bayes)\"\n",
    "plot_learning_curve(gnb, title, X, y, (0.1, 1.01), cv=cv, n_jobs=10)\n",
    "\n",
    "title = \"Curvas de aprendizaje  (Arbol de decision)\"\n",
    "plot_learning_curve(dt, title, X, y, (0.7, 1.01), cv=cv, n_jobs=10)\n",
    "\n",
    "title = \"Curvas de aprendizaje  (Red Neuronal)\"\n",
    "plot_learning_curve(mlp, title, X, y, (0.7, 1.01), cv=cv, n_jobs=10)\n",
    "\n",
    "title = \"Curvas de aprendizaje  (Regresion Logistica)\"\n",
    "plot_learning_curve(lr, title, X, y, (0.7, 1.01), cv=cv, n_jobs=10)\n",
    "\n",
    "title = \"Curvas de aprendizaje  (Support Vector Classification)\"\n",
    "plot_learning_curve(svc, title, X, y, (0.7, 1.01), cv=cv, n_jobs=10)\n",
    "\n",
    "plt.show()"
   ]
  },
  {
   "cell_type": "markdown",
   "metadata": {},
   "source": [
    "### Curvas ROC para la Clase 0 - No vulnerable"
   ]
  },
  {
   "cell_type": "code",
   "execution_count": null,
   "metadata": {},
   "outputs": [],
   "source": [
    "# Naive Bayes \n",
    "gnb_predict_probabilities = mlp.predict_proba(X_test)[:,0] \n",
    "gnb_fpr, gnb_tpr, _ = roc_curve(y_test, gnb_predict_probabilities)\n",
    "gnb_roc_auc = auc(gnb_fpr, gnb_tpr)\n",
    "\n",
    "# Decision Tree\n",
    "dt_predict_probabilities = dt.predict_proba(X_test)[:,0]\n",
    "dt_fpr, dt_tpr, _ = roc_curve(y_test, dt_predict_probabilities)\n",
    "dt_roc_auc = auc(dt_fpr,dt_tpr)\n",
    "\n",
    "# Multilayer Perceptron\n",
    "mlp_predict_probabilities = mlp.predict_proba(X_test)[:,0]\n",
    "mlp_fpr, mlp_tpr, _ = roc_curve(y_test, mlp_predict_probabilities)\n",
    "mlp_roc_auc = auc(mlp_fpr,mlp_tpr)\n",
    "\n",
    "# Logistic Regression\n",
    "lr_predict_probabilities = lr.predict_proba(X_test)[:,0]\n",
    "lr_fpr, lr_tpr, _ = roc_curve(y_test, lr_predict_probabilities)\n",
    "lr_roc_auc = auc(lr_fpr, lr_tpr)\n",
    "\n",
    "# Support Vector Classification \n",
    "svc_predict_probabilities = svc.predict_proba(X_test)[:,0]\n",
    "svc_fpr, svc_tpr, _ = roc_curve(y_test, svc_predict_probabilities)\n",
    "svc_roc_auc = auc(svc_fpr, svc_tpr)\n",
    "\n",
    "\n",
    "plt.figure()\n",
    "plt.plot(gnb_fpr, gnb_tpr, color='darkorange',\n",
    "         lw=2, label='Naive Bayes (area = %0.2f)' % gnb_roc_auc)\n",
    "\n",
    "plt.plot(dt_fpr, dt_tpr, color='darkgreen',\n",
    "         lw=2, label='Decision Tree (area = %0.2f)' % dt_roc_auc)\n",
    "\n",
    "plt.plot(mlp_fpr, mlp_tpr, color='chocolate',\n",
    "         lw=2, label='Multilayer Perceptron (area = %0.2f)' % mlp_roc_auc)\n",
    "\n",
    "plt.plot(lr_fpr,lr_tpr, color='darkred',\n",
    "         lw=2, label='Logistic Regression (area = %0.2f)' % lr_roc_auc)\n",
    "\n",
    "plt.plot(svc_fpr, svc_tpr, color='gold',\n",
    "         lw=2, label='Support Vector Classification (area = %0.2f)' % svc_roc_auc)\n",
    "\n",
    "\n",
    "plt.plot([0, 1], [0, 1], color='navy', lw=2, linestyle='--')\n",
    "plt.xlim([0.0, 1.0])\n",
    "plt.ylim([0.0, 1.05])\n",
    "plt.xlabel('False Positive Rate')\n",
    "plt.ylabel('True Positive Rate')\n",
    "plt.title('ROC Curve')\n",
    "plt.legend(loc=2, fontsize='small')\n",
    "plt.show()"
   ]
  },
  {
   "cell_type": "code",
   "execution_count": null,
   "metadata": {},
   "outputs": [],
   "source": [
    "mlp.predict_proba(X_kendra)[:,0] \n",
    "roc_curve(y_kendra, gnb_predict_probabilities)"
   ]
  },
  {
   "cell_type": "markdown",
   "metadata": {},
   "source": [
    "### Curvas ROC para la Clase 1 - Vulnerable"
   ]
  },
  {
   "cell_type": "code",
   "execution_count": null,
   "metadata": {},
   "outputs": [],
   "source": [
    "# Naive Bayes \n",
    "gnb_predict_probabilities = mlp.predict_proba(X_test)[:,1] \n",
    "gnb_fpr, gnb_tpr, _ = roc_curve(y_kendra, gnb_predict_probabilities)\n",
    "gnb_roc_auc = auc(gnb_fpr, gnb_tpr)\n",
    "\n",
    "# Decision Tree\n",
    "dt_predict_probabilities = dt.predict_proba(X_test)[:,1]\n",
    "dt_fpr, dt_tpr, _ = roc_curve(y_kendra, dt_predict_probabilities)\n",
    "dt_roc_auc = auc(dt_fpr,dt_tpr)\n",
    "\n",
    "# Multilayer Perceptron\n",
    "mlp_predict_probabilities = mlp.predict_proba(X_test)[:,1]\n",
    "mlp_fpr, mlp_tpr, _ = roc_curve(y_kendra, mlp_predict_probabilities)\n",
    "mlp_roc_auc = auc(mlp_fpr,mlp_tpr)\n",
    "\n",
    "# Logistic Regression\n",
    "lr_predict_probabilities = lr.predict_proba(X_test)[:,1]\n",
    "lr_fpr, lr_tpr, _ = roc_curve(y_kendra, lr_predict_probabilities)\n",
    "lr_roc_auc = auc(lr_fpr, lr_tpr)\n",
    "\n",
    "# Support Vector Classification \n",
    "svc_predict_probabilities = svc.predict_proba(X_test)[:,1]\n",
    "svc_fpr, svc_tpr, _ = roc_curve(y_kendra, svc_predict_probabilities)\n",
    "svc_roc_auc = auc(svc_fpr, svc_tpr)\n",
    "\n",
    "\n",
    "plt.figure()\n",
    "plt.plot(gnb_fpr, gnb_tpr, color='darkorange',\n",
    "         lw=2, label='Naive Bayes (area = %0.2f)' % gnb_roc_auc)\n",
    "\n",
    "plt.plot(dt_fpr, dt_tpr, color='darkgreen',\n",
    "         lw=2, label='Decision Tree (area = %0.2f)' % dt_roc_auc)\n",
    "\n",
    "plt.plot(mlp_fpr, mlp_tpr, color='chocolate',\n",
    "         lw=2, label='Multilayer Perceptron (area = %0.2f)' % mlp_roc_auc)\n",
    "\n",
    "plt.plot(lr_fpr,lr_tpr, color='darkred',\n",
    "         lw=2, label='Logistic Regression (area = %0.2f)' % lr_roc_auc)\n",
    "\n",
    "plt.plot(svc_fpr, svc_tpr, color='gold',\n",
    "         lw=2, label='Support Vector Classification (area = %0.2f)' % svc_roc_auc)\n",
    "\n",
    "\n",
    "plt.plot([0, 1], [0, 1], color='navy', lw=2, linestyle='--')\n",
    "plt.xlim([0.0, 1.0])\n",
    "plt.ylim([0.0, 1.05])\n",
    "plt.xlabel('False Positive Rate')\n",
    "plt.ylabel('True Positive Rate')\n",
    "plt.title('ROC Curve')\n",
    "plt.legend(loc=4, fontsize='small')\n",
    "plt.show()"
   ]
  },
  {
   "cell_type": "markdown",
   "metadata": {},
   "source": [
    "### Matriz de confusión"
   ]
  },
  {
   "cell_type": "code",
   "execution_count": null,
   "metadata": {},
   "outputs": [],
   "source": [
    "def plot_confusion_matrix(cm, classes,\n",
    "                          normalize=False,\n",
    "                          title='Confusion matrix',\n",
    "                          cmap=plt.cm.Blues):\n",
    "    \"\"\"\n",
    "    This function prints and plots the confusion matrix.\n",
    "    Normalization can be applied by setting `normalize=True`.\n",
    "    \"\"\"\n",
    "    if normalize:\n",
    "        cm = cm.astype('float') / cm.sum(axis=1)[:, np.newaxis]\n",
    "        print(\"Normalized confusion matrix\")\n",
    "    else:\n",
    "        print('Confusion matrix, without normalization')\n",
    "\n",
    "    #print(cm)\n",
    "\n",
    "    plt.imshow(cm, interpolation='nearest', cmap=cmap)\n",
    "    plt.title(title)\n",
    "    plt.colorbar()\n",
    "    tick_marks = np.arange(len(classes))\n",
    "    plt.xticks(tick_marks, classes, rotation=45)\n",
    "    plt.yticks(tick_marks, classes)\n",
    "\n",
    "    fmt = '.2f' if normalize else 'd'\n",
    "    thresh = cm.max() / 2.\n",
    "    for i, j in itertools.product(range(cm.shape[0]), range(cm.shape[1])):\n",
    "        plt.text(j, i, format(cm[i, j], fmt),\n",
    "                 horizontalalignment=\"center\",\n",
    "                 color=\"white\" if cm[i, j] > thresh else \"black\")\n",
    "\n",
    "    plt.ylabel('True label')\n",
    "    plt.xlabel('Predicted label')\n",
    "    #plt.tight_layout()\n",
    "    plt.show()"
   ]
  },
  {
   "cell_type": "code",
   "execution_count": null,
   "metadata": {},
   "outputs": [],
   "source": [
    "class_names=[0,1]"
   ]
  },
  {
   "cell_type": "code",
   "execution_count": null,
   "metadata": {
    "scrolled": true
   },
   "outputs": [],
   "source": [
    "# Matriz de confusión del Naive Bayes \n",
    "gnb_matrix=confusion_matrix(y_kendra, y_predict_gnb, labels=class_names)\n",
    "plot_confusion_matrix(gnb_matrix, classes=class_names, title='Confusion matrix Naive Bayes')"
   ]
  },
  {
   "cell_type": "code",
   "execution_count": null,
   "metadata": {
    "scrolled": true
   },
   "outputs": [],
   "source": [
    "# Matriz de confusión del Decision Tree\n",
    "dt_matrix=confusion_matrix(y_kendra, y_predict_dt, labels=class_names)\n",
    "plot_confusion_matrix(dt_matrix, classes=class_names, title='Confusion matrix Decision Tree')"
   ]
  },
  {
   "cell_type": "code",
   "execution_count": null,
   "metadata": {},
   "outputs": [],
   "source": [
    "# Matriz de confusión del Multilayer Perceptron\n",
    "mlp_matrix=confusion_matrix(y_kendra, y_predict_mlp, labels=class_names)\n",
    "plot_confusion_matrix(mlp_matrix, classes=class_names, title='Confusion matrix Multilayer Perceptron')"
   ]
  },
  {
   "cell_type": "code",
   "execution_count": null,
   "metadata": {
    "scrolled": true
   },
   "outputs": [],
   "source": [
    "# Matriz de confusión del Logistic Regression\n",
    "lr_matrix=confusion_matrix(y_kendra, y_predict_lr, labels=class_names)\n",
    "plot_confusion_matrix(lr_matrix, classes=class_names, title='Confusion matrix Logistic Regression')"
   ]
  },
  {
   "cell_type": "code",
   "execution_count": null,
   "metadata": {},
   "outputs": [],
   "source": [
    "# Matriz de confusión del Support Vector Classification \n",
    "svc_matrix=confusion_matrix(y_kendra, y_predict_svc, labels=class_names)\n",
    "plot_confusion_matrix(svc_matrix, classes=class_names, title='Confusion matrix Support Vector Classification ')"
   ]
  },
  {
   "cell_type": "code",
   "execution_count": null,
   "metadata": {},
   "outputs": [],
   "source": []
  }
 ],
 "metadata": {
  "kernelspec": {
   "display_name": "Python 3",
   "language": "python",
   "name": "python3"
  },
  "language_info": {
   "codemirror_mode": {
    "name": "ipython",
    "version": 3
   },
   "file_extension": ".py",
   "mimetype": "text/x-python",
   "name": "python",
   "nbconvert_exporter": "python",
   "pygments_lexer": "ipython3",
   "version": "3.7.3"
  }
 },
 "nbformat": 4,
 "nbformat_minor": 2
}
