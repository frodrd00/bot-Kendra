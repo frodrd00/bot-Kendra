{
 "cells": [
  {
   "cell_type": "markdown",
   "metadata": {},
   "source": [
    "### Librerias"
   ]
  },
  {
   "cell_type": "code",
   "execution_count": 1,
   "metadata": {},
   "outputs": [],
   "source": [
    "import matplotlib.pyplot as plt\n",
    "import numpy as np\n",
    "import pandas as pd\n",
    "import sklearn as sk\n",
    "from sklearn.model_selection import train_test_split\n",
    "from sklearn.metrics import confusion_matrix\n",
    "from sklearn.metrics import explained_variance_score, make_scorer\n",
    "from sklearn.metrics import accuracy_score\n",
    "from sklearn.model_selection import KFold # cross validation\n",
    "from sklearn.model_selection import learning_curve\n",
    "from sklearn.model_selection import ShuffleSplit # cross validation \n",
    "from sklearn.metrics import auc\n",
    "import itertools\n",
    "from sklearn.feature_selection import RFE\n",
    "\n",
    "# models\n",
    "from sklearn.naive_bayes import GaussianNB\n",
    "from sklearn.tree import DecisionTreeClassifier\n",
    "from sklearn.neural_network  import MLPClassifier\n",
    "from sklearn.svm import SVC"
   ]
  },
  {
   "cell_type": "markdown",
   "metadata": {},
   "source": [
    "### Se carga el dataset de prueba y se borran las filas duplicadas"
   ]
  },
  {
   "cell_type": "code",
   "execution_count": 2,
   "metadata": {},
   "outputs": [
    {
     "name": "stdout",
     "output_type": "stream",
     "text": [
      "17\n"
     ]
    },
    {
     "data": {
      "text/html": [
       "<div>\n",
       "<style scoped>\n",
       "    .dataframe tbody tr th:only-of-type {\n",
       "        vertical-align: middle;\n",
       "    }\n",
       "\n",
       "    .dataframe tbody tr th {\n",
       "        vertical-align: top;\n",
       "    }\n",
       "\n",
       "    .dataframe thead th {\n",
       "        text-align: right;\n",
       "    }\n",
       "</style>\n",
       "<table border=\"1\" class=\"dataframe\">\n",
       "  <thead>\n",
       "    <tr style=\"text-align: right;\">\n",
       "      <th></th>\n",
       "      <th>SinkClassification</th>\n",
       "      <th>CommandLine</th>\n",
       "      <th>EnvironmentVariable</th>\n",
       "      <th>File</th>\n",
       "      <th>Network</th>\n",
       "      <th>NumberOfElementsCopiedWithinBounds</th>\n",
       "      <th>ArrayWriteIndexWithinBounds</th>\n",
       "      <th>FormatStringPrecisionWithinBounds</th>\n",
       "      <th>StringCopyWithinBounds</th>\n",
       "      <th>IsCharacterCaseConversionSink</th>\n",
       "      <th>Vulnerable?</th>\n",
       "    </tr>\n",
       "  </thead>\n",
       "  <tbody>\n",
       "    <tr>\n",
       "      <th>0</th>\n",
       "      <td>1</td>\n",
       "      <td>0</td>\n",
       "      <td>0</td>\n",
       "      <td>0</td>\n",
       "      <td>0</td>\n",
       "      <td>-1</td>\n",
       "      <td>-1</td>\n",
       "      <td>-1</td>\n",
       "      <td>1</td>\n",
       "      <td>-1</td>\n",
       "      <td>1</td>\n",
       "    </tr>\n",
       "    <tr>\n",
       "      <th>1</th>\n",
       "      <td>4</td>\n",
       "      <td>0</td>\n",
       "      <td>0</td>\n",
       "      <td>0</td>\n",
       "      <td>0</td>\n",
       "      <td>-1</td>\n",
       "      <td>-1</td>\n",
       "      <td>1</td>\n",
       "      <td>-1</td>\n",
       "      <td>-1</td>\n",
       "      <td>1</td>\n",
       "    </tr>\n",
       "    <tr>\n",
       "      <th>4</th>\n",
       "      <td>7</td>\n",
       "      <td>0</td>\n",
       "      <td>0</td>\n",
       "      <td>0</td>\n",
       "      <td>0</td>\n",
       "      <td>-1</td>\n",
       "      <td>1</td>\n",
       "      <td>-1</td>\n",
       "      <td>-1</td>\n",
       "      <td>-1</td>\n",
       "      <td>1</td>\n",
       "    </tr>\n",
       "    <tr>\n",
       "      <th>5</th>\n",
       "      <td>5</td>\n",
       "      <td>3</td>\n",
       "      <td>0</td>\n",
       "      <td>0</td>\n",
       "      <td>0</td>\n",
       "      <td>-1</td>\n",
       "      <td>-1</td>\n",
       "      <td>-1</td>\n",
       "      <td>-1</td>\n",
       "      <td>-1</td>\n",
       "      <td>0</td>\n",
       "    </tr>\n",
       "    <tr>\n",
       "      <th>6</th>\n",
       "      <td>1</td>\n",
       "      <td>0</td>\n",
       "      <td>0</td>\n",
       "      <td>0</td>\n",
       "      <td>0</td>\n",
       "      <td>0</td>\n",
       "      <td>-1</td>\n",
       "      <td>-1</td>\n",
       "      <td>-1</td>\n",
       "      <td>-1</td>\n",
       "      <td>0</td>\n",
       "    </tr>\n",
       "    <tr>\n",
       "      <th>8</th>\n",
       "      <td>7</td>\n",
       "      <td>0</td>\n",
       "      <td>0</td>\n",
       "      <td>0</td>\n",
       "      <td>0</td>\n",
       "      <td>-1</td>\n",
       "      <td>0</td>\n",
       "      <td>-1</td>\n",
       "      <td>-1</td>\n",
       "      <td>-1</td>\n",
       "      <td>0</td>\n",
       "    </tr>\n",
       "    <tr>\n",
       "      <th>10</th>\n",
       "      <td>4</td>\n",
       "      <td>0</td>\n",
       "      <td>0</td>\n",
       "      <td>0</td>\n",
       "      <td>0</td>\n",
       "      <td>-1</td>\n",
       "      <td>-1</td>\n",
       "      <td>0</td>\n",
       "      <td>-1</td>\n",
       "      <td>-1</td>\n",
       "      <td>0</td>\n",
       "    </tr>\n",
       "    <tr>\n",
       "      <th>13</th>\n",
       "      <td>6</td>\n",
       "      <td>1</td>\n",
       "      <td>0</td>\n",
       "      <td>0</td>\n",
       "      <td>0</td>\n",
       "      <td>-1</td>\n",
       "      <td>-1</td>\n",
       "      <td>0</td>\n",
       "      <td>-1</td>\n",
       "      <td>-1</td>\n",
       "      <td>0</td>\n",
       "    </tr>\n",
       "    <tr>\n",
       "      <th>14</th>\n",
       "      <td>1</td>\n",
       "      <td>0</td>\n",
       "      <td>0</td>\n",
       "      <td>0</td>\n",
       "      <td>0</td>\n",
       "      <td>-1</td>\n",
       "      <td>-1</td>\n",
       "      <td>-1</td>\n",
       "      <td>0</td>\n",
       "      <td>-1</td>\n",
       "      <td>0</td>\n",
       "    </tr>\n",
       "    <tr>\n",
       "      <th>15</th>\n",
       "      <td>1</td>\n",
       "      <td>0</td>\n",
       "      <td>0</td>\n",
       "      <td>0</td>\n",
       "      <td>0</td>\n",
       "      <td>1</td>\n",
       "      <td>-1</td>\n",
       "      <td>-1</td>\n",
       "      <td>-1</td>\n",
       "      <td>-1</td>\n",
       "      <td>1</td>\n",
       "    </tr>\n",
       "    <tr>\n",
       "      <th>21</th>\n",
       "      <td>6</td>\n",
       "      <td>1</td>\n",
       "      <td>0</td>\n",
       "      <td>0</td>\n",
       "      <td>0</td>\n",
       "      <td>-1</td>\n",
       "      <td>-1</td>\n",
       "      <td>1</td>\n",
       "      <td>-1</td>\n",
       "      <td>-1</td>\n",
       "      <td>1</td>\n",
       "    </tr>\n",
       "    <tr>\n",
       "      <th>23</th>\n",
       "      <td>7</td>\n",
       "      <td>0</td>\n",
       "      <td>0</td>\n",
       "      <td>0</td>\n",
       "      <td>0</td>\n",
       "      <td>-1</td>\n",
       "      <td>-1</td>\n",
       "      <td>-1</td>\n",
       "      <td>-1</td>\n",
       "      <td>1</td>\n",
       "      <td>1</td>\n",
       "    </tr>\n",
       "  </tbody>\n",
       "</table>\n",
       "</div>"
      ],
      "text/plain": [
       "    SinkClassification  CommandLine  EnvironmentVariable  File  Network  \\\n",
       "0                    1            0                    0     0        0   \n",
       "1                    4            0                    0     0        0   \n",
       "4                    7            0                    0     0        0   \n",
       "5                    5            3                    0     0        0   \n",
       "6                    1            0                    0     0        0   \n",
       "8                    7            0                    0     0        0   \n",
       "10                   4            0                    0     0        0   \n",
       "13                   6            1                    0     0        0   \n",
       "14                   1            0                    0     0        0   \n",
       "15                   1            0                    0     0        0   \n",
       "21                   6            1                    0     0        0   \n",
       "23                   7            0                    0     0        0   \n",
       "\n",
       "    NumberOfElementsCopiedWithinBounds  ArrayWriteIndexWithinBounds  \\\n",
       "0                                   -1                           -1   \n",
       "1                                   -1                           -1   \n",
       "4                                   -1                            1   \n",
       "5                                   -1                           -1   \n",
       "6                                    0                           -1   \n",
       "8                                   -1                            0   \n",
       "10                                  -1                           -1   \n",
       "13                                  -1                           -1   \n",
       "14                                  -1                           -1   \n",
       "15                                   1                           -1   \n",
       "21                                  -1                           -1   \n",
       "23                                  -1                           -1   \n",
       "\n",
       "    FormatStringPrecisionWithinBounds  StringCopyWithinBounds  \\\n",
       "0                                  -1                       1   \n",
       "1                                   1                      -1   \n",
       "4                                  -1                      -1   \n",
       "5                                  -1                      -1   \n",
       "6                                  -1                      -1   \n",
       "8                                  -1                      -1   \n",
       "10                                  0                      -1   \n",
       "13                                  0                      -1   \n",
       "14                                 -1                       0   \n",
       "15                                 -1                      -1   \n",
       "21                                  1                      -1   \n",
       "23                                 -1                      -1   \n",
       "\n",
       "    IsCharacterCaseConversionSink  Vulnerable?  \n",
       "0                              -1            1  \n",
       "1                              -1            1  \n",
       "4                              -1            1  \n",
       "5                              -1            0  \n",
       "6                              -1            0  \n",
       "8                              -1            0  \n",
       "10                             -1            0  \n",
       "13                             -1            0  \n",
       "14                             -1            0  \n",
       "15                             -1            1  \n",
       "21                             -1            1  \n",
       "23                              1            1  "
      ]
     },
     "execution_count": 2,
     "metadata": {},
     "output_type": "execute_result"
    }
   ],
   "source": [
    "df = pd.read_csv(\"dataset-propio.csv\", delimiter=',')\n",
    "print(df.duplicated().sum())\n",
    "df = df.drop_duplicates()\n",
    "df"
   ]
  },
  {
   "cell_type": "code",
   "execution_count": 3,
   "metadata": {},
   "outputs": [],
   "source": [
    "y = df['Vulnerable?'].values\n",
    "# estas caracteristicas no son relevantes dado que no se utilizan\n",
    "X = df.drop(columns=['EnvironmentVariable','File', 'Network','Vulnerable?'], axis=1)\n",
    "X = X.values"
   ]
  },
  {
   "cell_type": "markdown",
   "metadata": {},
   "source": [
    "### Se definen los modelos de ML a utilizar"
   ]
  },
  {
   "cell_type": "code",
   "execution_count": 4,
   "metadata": {},
   "outputs": [],
   "source": [
    "gnb = GaussianNB()\n",
    "dt = DecisionTreeClassifier(criterion='entropy')\n",
    "mlp = MLPClassifier()\n",
    "svc = SVC(random_state=0, tol=1e-2, probability=True, gamma='auto')"
   ]
  },
  {
   "cell_type": "markdown",
   "metadata": {},
   "source": [
    "### Se entrenan los modelos (con todos los datos)"
   ]
  },
  {
   "cell_type": "code",
   "execution_count": 5,
   "metadata": {},
   "outputs": [
    {
     "data": {
      "text/plain": [
       "SVC(C=1.0, cache_size=200, class_weight=None, coef0=0.0,\n",
       "  decision_function_shape='ovr', degree=3, gamma='auto', kernel='rbf',\n",
       "  max_iter=-1, probability=True, random_state=0, shrinking=True, tol=0.01,\n",
       "  verbose=False)"
      ]
     },
     "execution_count": 5,
     "metadata": {},
     "output_type": "execute_result"
    }
   ],
   "source": [
    "gnb.fit(X,y)\n",
    "dt.fit(X,y)\n",
    "mlp.learning_rate_init = 1\n",
    "mlp.fit(X,y)\n",
    "svc.fit(X,y)"
   ]
  },
  {
   "cell_type": "markdown",
   "metadata": {},
   "source": [
    "### Se separan los datos para testeo"
   ]
  },
  {
   "cell_type": "code",
   "execution_count": 6,
   "metadata": {},
   "outputs": [
    {
     "data": {
      "text/plain": [
       "array([[ 6,  1, -1, -1,  1, -1, -1],\n",
       "       [ 1,  0,  0, -1, -1, -1, -1],\n",
       "       [ 7,  0, -1,  0, -1, -1, -1],\n",
       "       [ 1,  0,  1, -1, -1, -1, -1],\n",
       "       [ 7,  0, -1,  1, -1, -1, -1]])"
      ]
     },
     "execution_count": 6,
     "metadata": {},
     "output_type": "execute_result"
    }
   ],
   "source": [
    "X_train, X_test, y_train, y_test = train_test_split(X, y, test_size=0.40)\n",
    "X_test"
   ]
  },
  {
   "cell_type": "markdown",
   "metadata": {},
   "source": [
    "### Se predicen los modelos con los  datos de test sin etiquetar"
   ]
  },
  {
   "cell_type": "code",
   "execution_count": 7,
   "metadata": {},
   "outputs": [],
   "source": [
    "y_predict_gnb = gnb.predict(X_test)\n",
    "y_predict_dt = dt.predict(X_test)\n",
    "y_predict_mlp = mlp.predict(X_test)\n",
    "y_predict_svc = svc.predict(X_test)"
   ]
  },
  {
   "cell_type": "markdown",
   "metadata": {},
   "source": [
    "### Accuracy Score"
   ]
  },
  {
   "cell_type": "code",
   "execution_count": 8,
   "metadata": {
    "scrolled": false
   },
   "outputs": [
    {
     "name": "stdout",
     "output_type": "stream",
     "text": [
      "Accuracy Naive Bayes: 0.40\n",
      "Accuracy Decision Tree: 1.00\n",
      "Accuracy Multi-layer Perceptron: 0.60\n",
      "Accuracy Support Vector Classification: 0.80\n"
     ]
    }
   ],
   "source": [
    "print('Accuracy Naive Bayes: %.2f' % accuracy_score(y_test, y_predict_gnb))\n",
    "print('Accuracy Decision Tree: %.2f' % accuracy_score(y_test, y_predict_dt))\n",
    "print('Accuracy Multi-layer Perceptron: %.2f' % accuracy_score(y_test, y_predict_mlp))\n",
    "print('Accuracy Support Vector Classification: %.2f' % accuracy_score(y_test, y_predict_svc))"
   ]
  },
  {
   "cell_type": "markdown",
   "metadata": {},
   "source": [
    "### Plot de curvas de aprendizaje del Árbol de Decisión"
   ]
  },
  {
   "cell_type": "code",
   "execution_count": 9,
   "metadata": {
    "scrolled": true
   },
   "outputs": [
    {
     "data": {
      "image/png": "[encoded data removed]",
      "text/plain": [
       "<Figure size 432x288 with 1 Axes>"
      ]
     },
     "metadata": {
      "needs_background": "light"
     },
     "output_type": "display_data"
    }
   ],
   "source": [
    "#Grafico de ajuste del árbol de decisión\n",
    "train_prec =  []\n",
    "eval_prec = []\n",
    "max_deep_list = list(range(3, 25))\n",
    "for deep in max_deep_list:\n",
    "    arbol = DecisionTreeClassifier(criterion='entropy', max_depth=deep)\n",
    "    arbol.fit(X, y)\n",
    "    train_prec.append(arbol.score(X, y))\n",
    "    eval_prec.append(arbol.score(X_test, y_test))\n",
    "plt.locator_params(axis='x', nbins=25)\n",
    "plt.plot(max_deep_list, train_prec, color='r', label='entrenamiento')\n",
    "plt.plot(max_deep_list, eval_prec, color='b', label='evaluacion')\n",
    "plt.title('Grafico de ajuste arbol de decision')\n",
    "plt.legend()\n",
    "plt.ylabel('precision')\n",
    "plt.xlabel('cantidad de nodos')\n",
    "plt.show()"
   ]
  },
  {
   "cell_type": "markdown",
   "metadata": {},
   "source": [
    "### Se carga el dataset de kendra"
   ]
  },
  {
   "cell_type": "code",
   "execution_count": 10,
   "metadata": {},
   "outputs": [
    {
     "name": "stdout",
     "output_type": "stream",
     "text": [
      "499\n"
     ]
    },
    {
     "data": {
      "text/html": [
       "<div>\n",
       "<style scoped>\n",
       "    .dataframe tbody tr th:only-of-type {\n",
       "        vertical-align: middle;\n",
       "    }\n",
       "\n",
       "    .dataframe tbody tr th {\n",
       "        vertical-align: top;\n",
       "    }\n",
       "\n",
       "    .dataframe thead th {\n",
       "        text-align: right;\n",
       "    }\n",
       "</style>\n",
       "<table border=\"1\" class=\"dataframe\">\n",
       "  <thead>\n",
       "    <tr style=\"text-align: right;\">\n",
       "      <th></th>\n",
       "      <th>SinkClassification</th>\n",
       "      <th>CommandLine</th>\n",
       "      <th>EnvironmentVariable</th>\n",
       "      <th>File</th>\n",
       "      <th>Network</th>\n",
       "      <th>NumberOfElementsCopiedWithinBounds</th>\n",
       "      <th>ArrayWriteIndexWithinBounds</th>\n",
       "      <th>FormatStringPrecisionWithinBounds</th>\n",
       "      <th>StringCopyWithinBounds</th>\n",
       "      <th>IsCharacterCaseConversionSink</th>\n",
       "      <th>Vulnerable?</th>\n",
       "    </tr>\n",
       "  </thead>\n",
       "  <tbody>\n",
       "    <tr>\n",
       "      <th>0</th>\n",
       "      <td>7</td>\n",
       "      <td>0</td>\n",
       "      <td>0</td>\n",
       "      <td>0</td>\n",
       "      <td>0</td>\n",
       "      <td>-1</td>\n",
       "      <td>0</td>\n",
       "      <td>-1</td>\n",
       "      <td>-1</td>\n",
       "      <td>-1</td>\n",
       "      <td>0</td>\n",
       "    </tr>\n",
       "    <tr>\n",
       "      <th>2</th>\n",
       "      <td>7</td>\n",
       "      <td>0</td>\n",
       "      <td>0</td>\n",
       "      <td>0</td>\n",
       "      <td>0</td>\n",
       "      <td>-1</td>\n",
       "      <td>1</td>\n",
       "      <td>-1</td>\n",
       "      <td>-1</td>\n",
       "      <td>-1</td>\n",
       "      <td>1</td>\n",
       "    </tr>\n",
       "    <tr>\n",
       "      <th>8</th>\n",
       "      <td>1</td>\n",
       "      <td>0</td>\n",
       "      <td>0</td>\n",
       "      <td>0</td>\n",
       "      <td>0</td>\n",
       "      <td>0</td>\n",
       "      <td>-1</td>\n",
       "      <td>-1</td>\n",
       "      <td>-1</td>\n",
       "      <td>-1</td>\n",
       "      <td>0</td>\n",
       "    </tr>\n",
       "    <tr>\n",
       "      <th>70</th>\n",
       "      <td>1</td>\n",
       "      <td>0</td>\n",
       "      <td>0</td>\n",
       "      <td>0</td>\n",
       "      <td>0</td>\n",
       "      <td>-1</td>\n",
       "      <td>-1</td>\n",
       "      <td>-1</td>\n",
       "      <td>0</td>\n",
       "      <td>-1</td>\n",
       "      <td>0</td>\n",
       "    </tr>\n",
       "    <tr>\n",
       "      <th>245</th>\n",
       "      <td>1</td>\n",
       "      <td>0</td>\n",
       "      <td>0</td>\n",
       "      <td>0</td>\n",
       "      <td>0</td>\n",
       "      <td>1</td>\n",
       "      <td>-1</td>\n",
       "      <td>-1</td>\n",
       "      <td>-1</td>\n",
       "      <td>-1</td>\n",
       "      <td>1</td>\n",
       "    </tr>\n",
       "    <tr>\n",
       "      <th>342</th>\n",
       "      <td>1</td>\n",
       "      <td>0</td>\n",
       "      <td>0</td>\n",
       "      <td>0</td>\n",
       "      <td>0</td>\n",
       "      <td>-1</td>\n",
       "      <td>-1</td>\n",
       "      <td>-1</td>\n",
       "      <td>1</td>\n",
       "      <td>-1</td>\n",
       "      <td>1</td>\n",
       "    </tr>\n",
       "  </tbody>\n",
       "</table>\n",
       "</div>"
      ],
      "text/plain": [
       "     SinkClassification  CommandLine  EnvironmentVariable  File  Network  \\\n",
       "0                     7            0                    0     0        0   \n",
       "2                     7            0                    0     0        0   \n",
       "8                     1            0                    0     0        0   \n",
       "70                    1            0                    0     0        0   \n",
       "245                   1            0                    0     0        0   \n",
       "342                   1            0                    0     0        0   \n",
       "\n",
       "     NumberOfElementsCopiedWithinBounds  ArrayWriteIndexWithinBounds  \\\n",
       "0                                    -1                            0   \n",
       "2                                    -1                            1   \n",
       "8                                     0                           -1   \n",
       "70                                   -1                           -1   \n",
       "245                                   1                           -1   \n",
       "342                                  -1                           -1   \n",
       "\n",
       "     FormatStringPrecisionWithinBounds  StringCopyWithinBounds  \\\n",
       "0                                   -1                      -1   \n",
       "2                                   -1                      -1   \n",
       "8                                   -1                      -1   \n",
       "70                                  -1                       0   \n",
       "245                                 -1                      -1   \n",
       "342                                 -1                       1   \n",
       "\n",
       "     IsCharacterCaseConversionSink  Vulnerable?  \n",
       "0                               -1            0  \n",
       "2                               -1            1  \n",
       "8                               -1            0  \n",
       "70                              -1            0  \n",
       "245                             -1            1  \n",
       "342                             -1            1  "
      ]
     },
     "execution_count": 10,
     "metadata": {},
     "output_type": "execute_result"
    }
   ],
   "source": [
    "df = pd.read_csv(\"dataset-kendra.csv\", delimiter=',')\n",
    "print(df.duplicated().sum())\n",
    "df = df.drop_duplicates()\n",
    "y_kendra = df['Vulnerable?'].values\n",
    "X_kendra = df.drop(columns=['EnvironmentVariable','File', 'Network','Vulnerable?'], axis=1)\n",
    "X_kendra = X_kendra.values\n",
    "df"
   ]
  },
  {
   "cell_type": "code",
   "execution_count": 11,
   "metadata": {},
   "outputs": [],
   "source": [
    "gnb = GaussianNB()\n",
    "dt = DecisionTreeClassifier(criterion='entropy', max_depth=8)\n",
    "mlp = MLPClassifier()\n",
    "svc = SVC(random_state=0, tol=1e-2, probability=True, gamma='auto')"
   ]
  },
  {
   "cell_type": "code",
   "execution_count": 12,
   "metadata": {},
   "outputs": [
    {
     "data": {
      "text/plain": [
       "SVC(C=1.0, cache_size=200, class_weight=None, coef0=0.0,\n",
       "  decision_function_shape='ovr', degree=3, gamma='auto', kernel='rbf',\n",
       "  max_iter=-1, probability=True, random_state=0, shrinking=True, tol=0.01,\n",
       "  verbose=False)"
      ]
     },
     "execution_count": 12,
     "metadata": {},
     "output_type": "execute_result"
    }
   ],
   "source": [
    "gnb.fit(X,y)\n",
    "dt.fit(X,y)\n",
    "mlp.learning_rate_init = 1\n",
    "mlp.fit(X,y)\n",
    "svc.fit(X,y)"
   ]
  },
  {
   "cell_type": "code",
   "execution_count": 13,
   "metadata": {},
   "outputs": [],
   "source": [
    "y_predict_gnb = gnb.predict(X_kendra)\n",
    "y_predict_dt = dt.predict(X_kendra)\n",
    "y_predict_mlp = mlp.predict(X_kendra)\n",
    "y_predict_svc = svc.predict(X_kendra)"
   ]
  },
  {
   "cell_type": "code",
   "execution_count": 14,
   "metadata": {},
   "outputs": [
    {
     "name": "stdout",
     "output_type": "stream",
     "text": [
      "Accuracy Naive Bayes: 0.50\n",
      "Accuracy Decision Tree: 1.00\n",
      "Accuracy Multi-layer Perceptron: 0.50\n",
      "Accuracy Support Vector Classification: 0.83\n"
     ]
    }
   ],
   "source": [
    "print('Accuracy Naive Bayes: %.2f' % accuracy_score(y_kendra, y_predict_gnb))\n",
    "print('Accuracy Decision Tree: %.2f' % accuracy_score(y_kendra, y_predict_dt))\n",
    "print('Accuracy Multi-layer Perceptron: %.2f' % accuracy_score(y_kendra, y_predict_mlp))\n",
    "print('Accuracy Support Vector Classification: %.2f' % accuracy_score(y_kendra, y_predict_svc))"
   ]
  },
  {
   "cell_type": "code",
   "execution_count": 15,
   "metadata": {},
   "outputs": [
    {
     "data": {
      "image/png": "[encoded data removed]",
      "text/plain": [
       "<Figure size 432x288 with 1 Axes>"
      ]
     },
     "metadata": {
      "needs_background": "light"
     },
     "output_type": "display_data"
    }
   ],
   "source": [
    "#Grafico de ajuste del árbol de decisión\n",
    "train_prec =  []\n",
    "eval_prec = []\n",
    "max_deep_list = list(range(3, 25))\n",
    "for deep in max_deep_list:\n",
    "    arbol = DecisionTreeClassifier(criterion='entropy', max_depth=deep)\n",
    "    arbol.fit(X, y)\n",
    "    train_prec.append(arbol.score(X, y))\n",
    "    eval_prec.append(arbol.score(X_kendra, y_kendra))\n",
    "plt.locator_params(axis='x', nbins=25)\n",
    "plt.plot(max_deep_list, train_prec, color='r', label='entrenamiento')\n",
    "plt.plot(max_deep_list, eval_prec, color='b', label='evaluacion')\n",
    "plt.title('Grafico de ajuste arbol de decision')\n",
    "plt.legend()\n",
    "plt.ylabel('precision')\n",
    "plt.xlabel('cantidad de nodos')\n",
    "plt.show()"
   ]
  },
  {
   "cell_type": "markdown",
   "metadata": {},
   "source": [
    "### Matriz de confusión"
   ]
  },
  {
   "cell_type": "code",
   "execution_count": 16,
   "metadata": {},
   "outputs": [],
   "source": [
    "def plot_confusion_matrix(cm, classes,\n",
    "                          normalize=False,\n",
    "                          title='Confusion matrix',\n",
    "                          cmap=plt.cm.Blues):\n",
    "    \"\"\"\n",
    "    This function prints and plots the confusion matrix.\n",
    "    Normalization can be applied by setting `normalize=True`.\n",
    "    \"\"\"\n",
    "    if normalize:\n",
    "        cm = cm.astype('float') / cm.sum(axis=1)[:, np.newaxis]\n",
    "        print(\"Normalized confusion matrix\")\n",
    "    else:\n",
    "        print('Confusion matrix, without normalization')\n",
    "\n",
    "    #print(cm)\n",
    "\n",
    "    plt.imshow(cm, interpolation='nearest', cmap=cmap)\n",
    "    plt.title(title)\n",
    "    plt.colorbar()\n",
    "    tick_marks = np.arange(len(classes))\n",
    "    plt.xticks(tick_marks, classes, rotation=45)\n",
    "    plt.yticks(tick_marks, classes)\n",
    "\n",
    "    fmt = '.2f' if normalize else 'd'\n",
    "    thresh = cm.max() / 2.\n",
    "    for i, j in itertools.product(range(cm.shape[0]), range(cm.shape[1])):\n",
    "        plt.text(j, i, format(cm[i, j], fmt),\n",
    "                 horizontalalignment=\"center\",\n",
    "                 color=\"white\" if cm[i, j] > thresh else \"black\")\n",
    "\n",
    "    plt.ylabel('True label')\n",
    "    plt.xlabel('Predicted label')\n",
    "    #plt.tight_layout()\n",
    "    plt.show()"
   ]
  },
  {
   "cell_type": "code",
   "execution_count": 17,
   "metadata": {},
   "outputs": [],
   "source": [
    "class_names=[0,1]"
   ]
  },
  {
   "cell_type": "code",
   "execution_count": 18,
   "metadata": {
    "scrolled": true
   },
   "outputs": [
    {
     "name": "stdout",
     "output_type": "stream",
     "text": [
      "Confusion matrix, without normalization\n"
     ]
    },
    {
     "data": {
      "image/png": "[encoded data removed]",
      "text/plain": [
       "<Figure size 432x288 with 2 Axes>"
      ]
     },
     "metadata": {
      "needs_background": "light"
     },
     "output_type": "display_data"
    }
   ],
   "source": [
    "# Matriz de confusión del Naive Bayes \n",
    "gnb_matrix=confusion_matrix(y_kendra, y_predict_gnb, labels=class_names)\n",
    "plot_confusion_matrix(gnb_matrix, classes=class_names, title='Confusion matrix Naive Bayes')"
   ]
  },
  {
   "cell_type": "code",
   "execution_count": 19,
   "metadata": {
    "scrolled": true
   },
   "outputs": [
    {
     "name": "stdout",
     "output_type": "stream",
     "text": [
      "Confusion matrix, without normalization\n"
     ]
    },
    {
     "data": {
      "image/png": "[encoded data removed]",
      "text/plain": [
       "<Figure size 432x288 with 2 Axes>"
      ]
     },
     "metadata": {
      "needs_background": "light"
     },
     "output_type": "display_data"
    }
   ],
   "source": [
    "# Matriz de confusión del Decision Tree\n",
    "dt_matrix=confusion_matrix(y_kendra, y_predict_dt, labels=class_names)\n",
    "plot_confusion_matrix(dt_matrix, classes=class_names, title='Confusion matrix Decision Tree')"
   ]
  },
  {
   "cell_type": "code",
   "execution_count": 20,
   "metadata": {
    "scrolled": true
   },
   "outputs": [
    {
     "name": "stdout",
     "output_type": "stream",
     "text": [
      "Confusion matrix, without normalization\n"
     ]
    },
    {
     "data": {
      "image/png": "[encoded data removed]",
      "text/plain": [
       "<Figure size 432x288 with 2 Axes>"
      ]
     },
     "metadata": {
      "needs_background": "light"
     },
     "output_type": "display_data"
    }
   ],
   "source": [
    "# Matriz de confusión del Multi-layer Perceptron\n",
    "mlp_matrix=confusion_matrix(y_kendra, y_predict_mlp, labels=class_names)\n",
    "plot_confusion_matrix(mlp_matrix, classes=class_names, title='Confusion matrix Multi-layer Perceptron')"
   ]
  },
  {
   "cell_type": "code",
   "execution_count": 21,
   "metadata": {},
   "outputs": [
    {
     "name": "stdout",
     "output_type": "stream",
     "text": [
      "Confusion matrix, without normalization\n"
     ]
    },
    {
     "data": {
      "image/png": "[encoded data removed]",
      "text/plain": [
       "<Figure size 432x288 with 2 Axes>"
      ]
     },
     "metadata": {
      "needs_background": "light"
     },
     "output_type": "display_data"
    }
   ],
   "source": [
    "# Matriz de confusión del Support Vector Classification \n",
    "svc_matrix=confusion_matrix(y_kendra, y_predict_svc, labels=class_names)\n",
    "plot_confusion_matrix(svc_matrix, classes=class_names, title='Confusion matrix Support Vector Classification ')"
   ]
  },
  {
   "cell_type": "markdown",
   "metadata": {},
   "source": [
    "### Test del código de SonarCloud etiquetado como vulnerable"
   ]
  },
  {
   "cell_type": "code",
   "execution_count": 22,
   "metadata": {},
   "outputs": [
    {
     "name": "stdout",
     "output_type": "stream",
     "text": [
      "74\n"
     ]
    },
    {
     "data": {
      "text/html": [
       "<div>\n",
       "<style scoped>\n",
       "    .dataframe tbody tr th:only-of-type {\n",
       "        vertical-align: middle;\n",
       "    }\n",
       "\n",
       "    .dataframe tbody tr th {\n",
       "        vertical-align: top;\n",
       "    }\n",
       "\n",
       "    .dataframe thead th {\n",
       "        text-align: right;\n",
       "    }\n",
       "</style>\n",
       "<table border=\"1\" class=\"dataframe\">\n",
       "  <thead>\n",
       "    <tr style=\"text-align: right;\">\n",
       "      <th></th>\n",
       "      <th>SinkClassification</th>\n",
       "      <th>CommandLine</th>\n",
       "      <th>EnvironmentVariable</th>\n",
       "      <th>File</th>\n",
       "      <th>Network</th>\n",
       "      <th>NumberOfElementsCopiedWithinBounds</th>\n",
       "      <th>ArrayWriteIndexWithinBounds</th>\n",
       "      <th>FormatStringPrecisionWithinBounds</th>\n",
       "      <th>StringCopyWithinBounds</th>\n",
       "      <th>IsCharacterCaseConversionSink</th>\n",
       "      <th>Vulnerable?</th>\n",
       "    </tr>\n",
       "  </thead>\n",
       "  <tbody>\n",
       "    <tr>\n",
       "      <th>0</th>\n",
       "      <td>7</td>\n",
       "      <td>0</td>\n",
       "      <td>0</td>\n",
       "      <td>0</td>\n",
       "      <td>0</td>\n",
       "      <td>-1</td>\n",
       "      <td>-1</td>\n",
       "      <td>-1</td>\n",
       "      <td>-1</td>\n",
       "      <td>0</td>\n",
       "      <td>0</td>\n",
       "    </tr>\n",
       "    <tr>\n",
       "      <th>1</th>\n",
       "      <td>1</td>\n",
       "      <td>0</td>\n",
       "      <td>0</td>\n",
       "      <td>0</td>\n",
       "      <td>0</td>\n",
       "      <td>-1</td>\n",
       "      <td>-1</td>\n",
       "      <td>-1</td>\n",
       "      <td>0</td>\n",
       "      <td>-1</td>\n",
       "      <td>0</td>\n",
       "    </tr>\n",
       "    <tr>\n",
       "      <th>4</th>\n",
       "      <td>4</td>\n",
       "      <td>0</td>\n",
       "      <td>0</td>\n",
       "      <td>0</td>\n",
       "      <td>0</td>\n",
       "      <td>-1</td>\n",
       "      <td>-1</td>\n",
       "      <td>0</td>\n",
       "      <td>-1</td>\n",
       "      <td>-1</td>\n",
       "      <td>0</td>\n",
       "    </tr>\n",
       "  </tbody>\n",
       "</table>\n",
       "</div>"
      ],
      "text/plain": [
       "   SinkClassification  CommandLine  EnvironmentVariable  File  Network  \\\n",
       "0                   7            0                    0     0        0   \n",
       "1                   1            0                    0     0        0   \n",
       "4                   4            0                    0     0        0   \n",
       "\n",
       "   NumberOfElementsCopiedWithinBounds  ArrayWriteIndexWithinBounds  \\\n",
       "0                                  -1                           -1   \n",
       "1                                  -1                           -1   \n",
       "4                                  -1                           -1   \n",
       "\n",
       "   FormatStringPrecisionWithinBounds  StringCopyWithinBounds  \\\n",
       "0                                 -1                      -1   \n",
       "1                                 -1                       0   \n",
       "4                                  0                      -1   \n",
       "\n",
       "   IsCharacterCaseConversionSink  Vulnerable?  \n",
       "0                              0            0  \n",
       "1                             -1            0  \n",
       "4                             -1            0  "
      ]
     },
     "execution_count": 22,
     "metadata": {},
     "output_type": "execute_result"
    }
   ],
   "source": [
    "df = pd.read_csv(\"/home/flavio-riasc/sonarcloud-bot/list.csv\", delimiter=',')\n",
    "print(df.duplicated().sum())\n",
    "df = df.drop_duplicates()\n",
    "y_sonar = df['Vulnerable?'].values\n",
    "X_sonar = df.drop(columns=['EnvironmentVariable','File', 'Network','Vulnerable?'], axis=1)\n",
    "X_sonar= X_sonar.values\n",
    "df"
   ]
  },
  {
   "cell_type": "code",
   "execution_count": null,
   "metadata": {},
   "outputs": [],
   "source": []
  }
 ],
 "metadata": {
  "kernelspec": {
   "display_name": "Python 2",
   "language": "python",
   "name": "python2"
  },
  "language_info": {
   "codemirror_mode": {
    "name": "ipython",
    "version": 2
   },
   "file_extension": ".py",
   "mimetype": "text/x-python",
   "name": "python",
   "nbconvert_exporter": "python",
   "pygments_lexer": "ipython2",
   "version": "2.7.16"
  }
 },
 "nbformat": 4,
 "nbformat_minor": 2
}
